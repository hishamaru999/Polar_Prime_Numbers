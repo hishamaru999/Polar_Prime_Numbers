{
  "nbformat": 4,
  "nbformat_minor": 0,
  "metadata": {
    "colab": {
      "name": "animated_matplotlib.ipynb",
      "provenance": [],
      "collapsed_sections": [],
      "authorship_tag": "ABX9TyMtT+aunXbr7023etj6huns",
      "include_colab_link": true
    },
    "kernelspec": {
      "name": "python3",
      "display_name": "Python 3"
    }
  },
  "cells": [
    {
      "cell_type": "markdown",
      "metadata": {
        "id": "view-in-github",
        "colab_type": "text"
      },
      "source": [
        "<a href=\"https://colab.research.google.com/github/hishamaru999/Polar_Prime_Numbers/blob/master/animated_matplotlib.ipynb\" target=\"_parent\"><img src=\"https://colab.research.google.com/assets/colab-badge.svg\" alt=\"Open In Colab\"/></a>"
      ]
    },
    {
      "cell_type": "code",
      "metadata": {
        "id": "cVU8T-qXseDw",
        "colab_type": "code",
        "colab": {}
      },
      "source": [
        "import numpy as np\n",
        "import sympy\n",
        "import matplotlib.pyplot as plt\n",
        "import matplotlib as mpl\n",
        "mpl.style.use('default')\n",
        "from matplotlib.animation import FuncAnimation"
      ],
      "execution_count": 0,
      "outputs": []
    },
    {
      "cell_type": "code",
      "metadata": {
        "id": "yF_dcPy6Ugmq",
        "colab_type": "code",
        "colab": {}
      },
      "source": [
        "# Prime Numbers\n",
        "list_primes = list(sympy.primerange(2, 711))"
      ],
      "execution_count": 0,
      "outputs": []
    },
    {
      "cell_type": "code",
      "metadata": {
        "id": "tWeE1_9tp8SP",
        "colab_type": "code",
        "colab": {
          "base_uri": "https://localhost:8080/",
          "height": 452
        },
        "outputId": "c66e0209-4ec2-4b3e-99a2-f383ff8dc4e9"
      },
      "source": [
        "# Set up the graph and animation\n",
        "x_data = []\n",
        "y_data = []\n",
        "\n",
        "fig, ax = plt.subplots()\n",
        "ax.set_xlim(0, 800)\n",
        "ax.set_ylim(0, 12)\n",
        "line, = ax.plot(0, 0)\n",
        "\n",
        "\n",
        "def animation_frame(i):\n",
        "    x_data.append(i * 10)\n",
        "    y_data.append(i)\n",
        "\n",
        "    line.set_xdata(x_data)\n",
        "    line.set_ydata(y_data)\n",
        "    return line,\n",
        "\n",
        "animation = FuncAnimation(fig, func=animation_frame, frames=list_primes, interval=10)\n",
        "plt.show"
      ],
      "execution_count": 13,
      "outputs": [
        {
          "output_type": "execute_result",
          "data": {
            "text/plain": [
              "<function matplotlib.pyplot.show>"
            ]
          },
          "metadata": {
            "tags": []
          },
          "execution_count": 13
        },
        {
          "output_type": "display_data",
          "data": {
            "image/png": "[encoded data removed]",
            "text/plain": [
              "<Figure size 640x480 with 1 Axes>"
            ]
          },
          "metadata": {
            "tags": []
          }
        }
      ]
    }
  ]
}