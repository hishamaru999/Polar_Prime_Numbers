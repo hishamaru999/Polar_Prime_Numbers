{
  "nbformat": 4,
  "nbformat_minor": 0,
  "metadata": {
    "colab": {
      "name": "polarPlot_primeNumbers.ipynb",
      "provenance": [],
      "collapsed_sections": []
    },
    "kernelspec": {
      "name": "python3",
      "display_name": "Python 3"
    }
  },
  "cells": [
    {
      "cell_type": "code",
      "metadata": {
        "id": "uprWW2qmCJua",
        "colab_type": "code",
        "colab": {}
      },
      "source": [
        "import numpy as np\n",
        "import sympy\n",
        "import matplotlib.pyplot as plt\n",
        "import matplotlib as mpl\n",
        "mpl.style.use('default')"
      ],
      "execution_count": 0,
      "outputs": []
    },
    {
      "cell_type": "code",
      "metadata": {
        "id": "tJ2uhU9XD5RP",
        "colab_type": "code",
        "colab": {}
      },
      "source": [
        "# Prime Numbers\n",
        "list_primes = list(sympy.primerange(2, 711))\n",
        "more_primes = list(sympy.primerange(2, 1421))\n",
        "#print(\"All prime values in the range: \", list_primes)"
      ],
      "execution_count": 0,
      "outputs": []
    },
    {
      "cell_type": "code",
      "metadata": {
        "id": "qlINuHBU9DTi",
        "colab_type": "code",
        "colab": {}
      },
      "source": [
        "# Parameters - n(points), f(), r(radius/scaling factor)\n",
        "n = 1420\n",
        "f = 6\n",
        "r = 5.0\n",
        "\n",
        "# DATA\n",
        "theta = np.linspace(0, list_primes, n)\n",
        "curve = r*np.cos(f*theta)\n",
        "\n",
        "# Get an axes handle/object\n",
        "ax1 = plt.subplot(111, polar=True)\n",
        "\n",
        "\n",
        "#Plot the figure\n",
        "ax1.plot(theta, curve)"
      ],
      "execution_count": 0,
      "outputs": []
    },
    {
      "cell_type": "code",
      "metadata": {
        "id": "R6uz1gIJFmM3",
        "colab_type": "code",
        "colab": {}
      },
      "source": [
        "# Parameters - n(points), f(), r(radius/scaling factor)\n",
        "n = 2001\n",
        "f = 6\n",
        "r = 5.0\n",
        "\n",
        "# DATA\n",
        "theta = np.linspace(0, 2.0 * np.pi, n)\n",
        "curve = r*np.cos(f*theta)\n",
        "\n",
        "# Get an axes handle/object\n",
        "ax1 = plt.subplot(111, polar=True)\n",
        "\n",
        "\n",
        "#Plot the figure\n",
        "ax1.plot(theta, curve)"
      ],
      "execution_count": 0,
      "outputs": []
    },
    {
      "cell_type": "code",
      "metadata": {
        "id": "v4kPNnCMJ-Ni",
        "colab_type": "code",
        "colab": {}
      },
      "source": [
        "# Parameters - n(points), f(), r(radius/scaling factor)\n",
        "n = 1420\n",
        "f = 6\n",
        "r = 5.0\n",
        "\n",
        "# DATA\n",
        "theta = np.linspace(0, more_primes, n)\n",
        "curve = r*np.cos(f*theta)\n",
        "\n",
        "# Get an axes handle/object\n",
        "ax1 = plt.subplot(111, polar=True)\n",
        "\n",
        "\n",
        "#Plot the figure\n",
        "ax1.plot(theta, curve)"
      ],
      "execution_count": 0,
      "outputs": []
    },
    {
      "cell_type": "code",
      "metadata": {
        "id": "XUnil1hfOEBI",
        "colab_type": "code",
        "colab": {}
      },
      "source": [
        "# Parameters - n(points), f(), r(radius/scaling factor)\n",
        "n = 710\n",
        "f = 6\n",
        "r = 5.0\n",
        "\n",
        "# DATA\n",
        "theta = np.linspace(0, list_primes, n)\n",
        "curve = r*np.cos(f*theta)\n",
        "\n",
        "# Get an axes handle/object\n",
        "ax1 = plt.subplot(111, polar=True)\n",
        "\n",
        "\n",
        "#Plot the figure\n",
        "ax1.plot(theta, curve)"
      ],
      "execution_count": 0,
      "outputs": []
    },
    {
      "cell_type": "code",
      "metadata": {
        "id": "1J1EnWsEOkYQ",
        "colab_type": "code",
        "colab": {}
      },
      "source": [
        "# Parameters - n(points), f(), r(radius/scaling factor)\n",
        "n = 710\n",
        "f = 6\n",
        "r = 5.0\n",
        "\n",
        "# DATA\n",
        "theta = np.linspace(0, more_primes, n)\n",
        "curve = r*np.cos(f*theta)\n",
        "\n",
        "# Get an axes handle/object\n",
        "ax1 = plt.subplot(111, polar=True)\n",
        "\n",
        "\n",
        "#Plot the figure\n",
        "ax1.plot(theta, curve)"
      ],
      "execution_count": 0,
      "outputs": []
    },
    {
      "cell_type": "code",
      "metadata": {
        "id": "qx6vzwipQ6gR",
        "colab_type": "code",
        "colab": {}
      },
      "source": [
        "# Rosetta pattern\n",
        "n = 2001\n",
        "f = np.pi\n",
        "r = 5.0\n",
        "\n",
        "# DATA\n",
        "theta = np.linspace(0, 20.0*np.pi, n)\n",
        "curve = r*np.cos(f*theta)\n",
        "\n",
        "# Get an axes handle/object\n",
        "ax1 = plt.subplot(111, polar=True)\n",
        "\n",
        "\n",
        "#Plot the figure\n",
        "ax1.plot(theta, curve, color='xkcd:salmon', label='rose curve')\n",
        "plt.legend()\n",
        "plt.title('Rose Plots')\n",
        "# -1 so 0 and 360 labels don't overlap\n",
        "ax1.set_xticks(np.linspace(0, 2.0*np.pi, 17)[:-1])"
      ],
      "execution_count": 0,
      "outputs": []
    },
    {
      "cell_type": "code",
      "metadata": {
        "id": "Je06KimVVYP1",
        "colab_type": "code",
        "colab": {}
      },
      "source": [
        "# Rosetta patterns (sin and cos)\n",
        "n = 2001\n",
        "f = np.pi\n",
        "r = 5.0\n",
        "\n",
        "# DATA\n",
        "theta = np.linspace(0, 20.0*np.pi, n)\n",
        "curve = r*np.cos(f*theta)\n",
        "curve2 = r*np.sin(f*theta)\n",
        "\n",
        "# Get an axes handle/object\n",
        "ax1 = plt.subplot(111, polar=True)\n",
        "\n",
        "\n",
        "#Plot the figure\n",
        "ax1.plot(theta, curve, color='xkcd:salmon', label='pink rose curve')\n",
        "ax1.plot(theta, curve2, color='xkcd:azure', label='blue rose curve')\n",
        "plt.legend()\n",
        "plt.title('Rose Plots')\n",
        "# -1 so 0 and 360 labels don't overlap\n",
        "ax1.set_xticks(np.linspace(0, 2.0*np.pi, 17)[:-1])"
      ],
      "execution_count": 0,
      "outputs": []
    },
    {
      "cell_type": "code",
      "metadata": {
        "id": "hdHR31IuWY8x",
        "colab_type": "code",
        "colab": {}
      },
      "source": [
        "# Rosetta patterns (rhodonea curve)\n",
        "# r is the number of tree rings\n",
        "# f \n",
        "n = 1420\n",
        "f = np.pi / 180\n",
        "r = 2.0 * np.pi\n",
        "\n",
        "# DATA\n",
        "theta = np.linspace(0, 20.0*np.pi, n)\n",
        "curve = r*np.cos(f*theta)\n",
        "curve2 = r*np.sin(f*theta)\n",
        "\n",
        "# Get an axes handle/object\n",
        "ax1 = plt.subplot(111, polar=True)\n",
        "\n",
        "\n",
        "#Plot the figure\n",
        "ax1.plot(theta, curve, color='xkcd:salmon', label='pink rose curve')\n",
        "ax1.plot(theta, curve2, color='xkcd:azure', label='blue rose curve')\n",
        "plt.legend()\n",
        "plt.title('Rose Plots')\n",
        "# -1 so 0 and 360 labels don't overlap\n",
        "ax1.set_xticks(np.linspace(0, 2.0*np.pi, 17)[:-1])"
      ],
      "execution_count": 0,
      "outputs": []
    },
    {
      "cell_type": "code",
      "metadata": {
        "id": "bsLPCuApRa5k",
        "colab_type": "code",
        "colab": {}
      },
      "source": [
        "print('We are the {} who say \"{}!\"'.format('knights', 'Ni'))"
      ],
      "execution_count": 0,
      "outputs": []
    },
    {
      "cell_type": "code",
      "metadata": {
        "id": "LjDUJPNRjX6q",
        "colab_type": "code",
        "colab": {}
      },
      "source": [
        ""
      ],
      "execution_count": 0,
      "outputs": []
    }
  ]
}